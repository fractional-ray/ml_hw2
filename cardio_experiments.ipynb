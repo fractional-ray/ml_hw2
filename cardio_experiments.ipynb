{
 "cells": [
  {
   "cell_type": "code",
   "execution_count": null,
   "metadata": {},
   "outputs": [],
   "source": [
    "%load_ext autoreload\n",
    "%autoreload 2\n",
    "%matplotlib inline"
   ]
  },
  {
   "cell_type": "code",
   "execution_count": null,
   "metadata": {},
   "outputs": [],
   "source": [
    "import numpy as np\n",
    "import pylab as plt\n",
    "from linearclassifier import linear_predict, perceptron_update, plot_predictions, log_reg_train\n",
    "from scipy.io import loadmat"
   ]
  },
  {
   "cell_type": "code",
   "execution_count": null,
   "metadata": {},
   "outputs": [],
   "source": [
    "# load cardio data from MATLAB data file\n",
    "\n",
    "variables = dict()\n",
    "loadmat('processedCardio.mat', variables)\n",
    "\n",
    "train_labels = variables['trainLabels'].ravel() - 1 # the original MATLAB data was 1-indexed\n",
    "test_labels = variables['testLabels'].ravel() - 1\n",
    "train_data = variables['trainData']\n",
    "test_data = variables['testData']\n",
    "\n",
    "# get data dimensions and sizes\n",
    "num_dim, num_train = train_data.shape\n",
    "_, num_test = test_data.shape\n",
    "\n",
    "classes = np.unique(train_labels)\n",
    "num_classes = len(classes)"
   ]
  },
  {
   "cell_type": "code",
   "execution_count": null,
   "metadata": {},
   "outputs": [],
   "source": [
    "plt.hist(train_labels)\n",
    "plt.xlabel('Class')\n",
    "plt.ylabel('Number of Examples')\n",
    "plt.show()"
   ]
  },
  {
   "cell_type": "code",
   "execution_count": null,
   "metadata": {},
   "outputs": [],
   "source": [
    "# Perceptron experiment\n",
    "\n",
    "epochs = 40\n",
    "\n",
    "model = { 'weights': np.zeros((num_dim, num_classes)) }\n",
    "train_accuracy = np.zeros(epochs)\n",
    "test_accuracy = np.zeros(epochs)\n",
    "\n",
    "for epoch in range(epochs):\n",
    "    # first measure training and testing accuracy\n",
    "    predictions = linear_predict(train_data, model)\n",
    "    train_accuracy[epoch] = np.sum(predictions == train_labels) / num_train\n",
    "\n",
    "    predictions = linear_predict(test_data, model)\n",
    "    test_accuracy[epoch] = np.sum(predictions == test_labels) / num_test\n",
    "\n",
    "    # run perceptron training\n",
    "    mistakes = 0\n",
    "    for i in range(num_train):\n",
    "        correct = perceptron_update(train_data[:, i], model, train_labels[i])\n",
    "        \n",
    "        if not correct:\n",
    "            mistakes += 1\n",
    "    \n",
    "    print(\"Finished epoch %d with %d mistakes.\" % (epoch, mistakes))"
   ]
  },
  {
   "cell_type": "code",
   "execution_count": null,
   "metadata": {},
   "outputs": [],
   "source": [
    "# Plot results of perceptron\n",
    "\n",
    "train_line = plt.plot(range(epochs), train_accuracy, label=\"Training\")\n",
    "test_line = plt.plot(range(epochs), test_accuracy, label=\"Testing\")\n",
    "plt.title('Cardiotocography Data')\n",
    "plt.xlabel('Iteration')\n",
    "plt.ylabel('Perceptron Accuracy')\n",
    "plt.legend()\n",
    "\n",
    "plt.show()"
   ]
  },
  {
   "cell_type": "code",
   "execution_count": null,
   "metadata": {},
   "outputs": [],
   "source": [
    "# Logistic regression gradient check\n",
    "\n",
    "# first check if the gradient and objective function are consistent with each other\n",
    "_ = log_reg_train(train_data, train_labels, {'lambda': 0.1}, \n",
    "              {'weights': np.random.randn(num_dim * num_classes)}, check_gradient=True)"
   ]
  },
  {
   "cell_type": "code",
   "execution_count": null,
   "metadata": {},
   "outputs": [],
   "source": [
    "# Train logistic regression\n",
    "\n",
    "lambda_vals = 10 ** np.linspace(-12, 2, 15)\n",
    "\n",
    "model = {'weights': np.zeros((num_dim, num_classes))}\n",
    "    \n",
    "train_accuracy = np.zeros(lambda_vals.size)\n",
    "test_accuracy = np.zeros(lambda_vals.size)\n",
    "\n",
    "for i in range(lambda_vals.size):\n",
    "    params = {'lambda': lambda_vals[i]}\n",
    "    \n",
    "    model = log_reg_train(train_data, train_labels, params, model)\n",
    "    \n",
    "    print(\"Finished learning with lambda = %e\" % params['lambda'])\n",
    "    \n",
    "    train_predictions = linear_predict(train_data, model)\n",
    "    train_accuracy[i] = np.sum(train_predictions == train_labels) / num_train\n",
    "\n",
    "    test_predictions = linear_predict(test_data, model)\n",
    "    test_accuracy[i] = np.sum(test_predictions == test_labels) / num_test"
   ]
  },
  {
   "cell_type": "code",
   "execution_count": null,
   "metadata": {},
   "outputs": [],
   "source": [
    "# Plot results of logistic regression parameter sweep\n",
    "\n",
    "train_line = plt.semilogx(lambda_vals, train_accuracy, label=\"Training\")\n",
    "test_line = plt.semilogx(lambda_vals, test_accuracy, label=\"Testing\")\n",
    "plt.title('Cardiotocography Data')\n",
    "plt.xlabel('lambda')\n",
    "plt.ylabel('Logistic Regression Accuracy')\n",
    "plt.legend()\n",
    "plt.show()"
   ]
  },
  {
   "cell_type": "code",
   "execution_count": null,
   "metadata": {},
   "outputs": [],
   "source": []
  }
 ],
 "metadata": {
  "kernelspec": {
   "display_name": "Python 3",
   "language": "python",
   "name": "python3"
  },
  "language_info": {
   "codemirror_mode": {
    "name": "ipython",
    "version": 3
   },
   "file_extension": ".py",
   "mimetype": "text/x-python",
   "name": "python",
   "nbconvert_exporter": "python",
   "pygments_lexer": "ipython3",
   "version": "3.6.5"
  }
 },
 "nbformat": 4,
 "nbformat_minor": 1
}
